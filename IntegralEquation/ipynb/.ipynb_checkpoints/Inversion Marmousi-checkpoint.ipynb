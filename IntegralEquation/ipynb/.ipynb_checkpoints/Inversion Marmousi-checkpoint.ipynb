{
 "cells": [
  {
   "cell_type": "markdown",
   "id": "63eddb9f",
   "metadata": {},
   "source": [
    "### Import python packages, set directories, set basedir"
   ]
  },
  {
   "cell_type": "code",
   "execution_count": 2,
   "id": "9e723764",
   "metadata": {},
   "outputs": [
    {
     "name": "stdout",
     "output_type": "stream",
     "text": [
      "/home/rsarkar/Research/Thesis\n"
     ]
    }
   ],
   "source": [
    "import sys, os\n",
    "import matplotlib.pyplot as plt\n",
    "%matplotlib inline\n",
    "\n",
    "basepath = os.path.abspath(\"../../..\")\n",
    "sys.path.append(basepath)\n",
    "\n",
    "print(basepath)"
   ]
  },
  {
   "cell_type": "code",
   "execution_count": null,
   "id": "e1957aaa",
   "metadata": {},
   "outputs": [],
   "source": []
  },
  {
   "cell_type": "code",
   "execution_count": null,
   "id": "ab9f6753",
   "metadata": {},
   "outputs": [],
   "source": [
    "from Inversion-LS.IntegralEquation.Inversion import ScatteringIntegralLinearIncreasingInversion\n",
    "\n",
    "basedir = basepath + \"Expt/test0/\"\n",
    "print(basedir)"
   ]
  },
  {
   "cell_type": "code",
   "execution_count": null,
   "id": "91fbb8de",
   "metadata": {},
   "outputs": [],
   "source": []
  }
 ],
 "metadata": {
  "kernelspec": {
   "display_name": "Python [conda env:py39]",
   "language": "python",
   "name": "conda-env-py39-py"
  },
  "language_info": {
   "codemirror_mode": {
    "name": "ipython",
    "version": 3
   },
   "file_extension": ".py",
   "mimetype": "text/x-python",
   "name": "python",
   "nbconvert_exporter": "python",
   "pygments_lexer": "ipython3",
   "version": "3.9.16"
  }
 },
 "nbformat": 4,
 "nbformat_minor": 5
}
